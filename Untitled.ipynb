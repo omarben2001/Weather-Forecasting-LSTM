{
 "cells": [
  {
   "cell_type": "code",
   "execution_count": 1,
   "id": "bb83e0e7",
   "metadata": {},
   "outputs": [
    {
     "ename": "NameError",
     "evalue": "name 'temp_frame' is not defined",
     "output_type": "error",
     "traceback": [
      "\u001b[1;31m---------------------------------------------------------------------------\u001b[0m",
      "\u001b[1;31mNameError\u001b[0m                                 Traceback (most recent call last)",
      "Cell \u001b[1;32mIn[1], line 21\u001b[0m\n\u001b[0;32m     18\u001b[0m     dates_list\u001b[38;5;241m.\u001b[39mappend(current_date)\n\u001b[0;32m     20\u001b[0m \u001b[38;5;66;03m# Créer les 5 labels avec les dates\u001b[39;00m\n\u001b[1;32m---> 21\u001b[0m label1 \u001b[38;5;241m=\u001b[39m tk\u001b[38;5;241m.\u001b[39mLabel(\u001b[43mtemp_frame\u001b[49m, text\u001b[38;5;241m=\u001b[39mdates_list[\u001b[38;5;241m0\u001b[39m]\u001b[38;5;241m.\u001b[39mstrftime(\u001b[38;5;124m\"\u001b[39m\u001b[38;5;132;01m%d\u001b[39;00m\u001b[38;5;124m/\u001b[39m\u001b[38;5;124m%\u001b[39m\u001b[38;5;124mm/\u001b[39m\u001b[38;5;124m%\u001b[39m\u001b[38;5;124mY\u001b[39m\u001b[38;5;124m\"\u001b[39m))\n\u001b[0;32m     22\u001b[0m label2 \u001b[38;5;241m=\u001b[39m tk\u001b[38;5;241m.\u001b[39mLabel(temp_frame, text\u001b[38;5;241m=\u001b[39mdates_list[\u001b[38;5;241m1\u001b[39m]\u001b[38;5;241m.\u001b[39mstrftime(\u001b[38;5;124m\"\u001b[39m\u001b[38;5;132;01m%d\u001b[39;00m\u001b[38;5;124m/\u001b[39m\u001b[38;5;124m%\u001b[39m\u001b[38;5;124mm/\u001b[39m\u001b[38;5;124m%\u001b[39m\u001b[38;5;124mY\u001b[39m\u001b[38;5;124m\"\u001b[39m))\n\u001b[0;32m     23\u001b[0m label3 \u001b[38;5;241m=\u001b[39m tk\u001b[38;5;241m.\u001b[39mLabel(temp_frame, text\u001b[38;5;241m=\u001b[39mdates_list[\u001b[38;5;241m2\u001b[39m]\u001b[38;5;241m.\u001b[39mstrftime(\u001b[38;5;124m\"\u001b[39m\u001b[38;5;132;01m%d\u001b[39;00m\u001b[38;5;124m/\u001b[39m\u001b[38;5;124m%\u001b[39m\u001b[38;5;124mm/\u001b[39m\u001b[38;5;124m%\u001b[39m\u001b[38;5;124mY\u001b[39m\u001b[38;5;124m\"\u001b[39m))\n",
      "\u001b[1;31mNameError\u001b[0m: name 'temp_frame' is not defined"
     ]
    }
   ],
   "source": [
    "import tkinter as tk\n",
    "from datetime import date, timedelta\n",
    "\n",
    "# Créer la fenêtre\n",
    "root = tk.Tk()\n",
    "\n",
    "# Obtenir la date d'aujourd'hui\n",
    "today = date.today()\n",
    "\n",
    "# Créer une liste vide pour stocker les dates\n",
    "dates_list = []\n",
    "\n",
    "# Boucle pour ajouter les dates à la liste\n",
    "for i in range(5):\n",
    "    # Calculer la date pour chaque label\n",
    "    current_date = today + timedelta(days=i-2)\n",
    "    # Ajouter la date à la liste\n",
    "    dates_list.append(current_date)\n",
    "\n",
    "# Créer les 5 labels avec les dates\n",
    "label1 = tk.Label(temp_frame, text=dates_list[0].strftime(\"%d/%m/%Y\"))\n",
    "label2 = tk.Label(temp_frame, text=dates_list[1].strftime(\"%d/%m/%Y\"))\n",
    "label3 = tk.Label(temp_frame, text=dates_list[2].strftime(\"%d/%m/%Y\"))\n",
    "label4 = tk.Label(temp_frame, text=dates_list[3].strftime(\"%d/%m/%Y\"))\n",
    "label5 = tk.Label(temp_frame, text=dates_list[4].strftime(\"%d/%m/%Y\"))\n",
    "\n",
    "# Afficher les labels dans la fenêtre avec la méthode grid()\n",
    "label1.grid(row=0, column=0, sticky=\"W\")\n",
    "label2.grid(row=1, column=0, sticky=\"W\")\n",
    "label3.grid(row=2, column=0, sticky=\"W\")\n",
    "label4.grid(row=3, column=0, sticky=\"W\")\n",
    "label5.grid(row=4, column=0, sticky=\"W\")\n",
    "\n",
    "# Lancer la boucle principale de l'application\n",
    "root.mainloop()\n"
   ]
  },
  {
   "cell_type": "code",
   "execution_count": 2,
   "id": "ba7ce5c3",
   "metadata": {},
   "outputs": [],
   "source": [
    "import tkinter as tk\n",
    "\n",
    "# Créer une fenêtre principale\n",
    "root = tk.Tk()\n",
    "\n",
    "# Créer la première étiquette \"label1\" avec l'option \"left\" alignée à gauche\n",
    "label1 = tk.Label(root, text=\"Texte de l'étiquette 1\", justify=\"left\")\n",
    "label1.pack()\n",
    "\n",
    "# Créer la deuxième étiquette \"label2\" avec l'option \"de\" pour la positionner à droite de \"label1\"\n",
    "label2 = tk.Label(root, text=\"Texte de l'étiquette 2\")\n",
    "label2.pack(side=\"left\", padx=10)\n",
    "\n",
    "# Lancer la boucle principale de la fenêtre\n",
    "root.mainloop()\n"
   ]
  }
 ],
 "metadata": {
  "kernelspec": {
   "display_name": "Python 3 (ipykernel)",
   "language": "python",
   "name": "python3"
  },
  "language_info": {
   "codemirror_mode": {
    "name": "ipython",
    "version": 3
   },
   "file_extension": ".py",
   "mimetype": "text/x-python",
   "name": "python",
   "nbconvert_exporter": "python",
   "pygments_lexer": "ipython3",
   "version": "3.13.5"
  }
 },
 "nbformat": 4,
 "nbformat_minor": 5
}
