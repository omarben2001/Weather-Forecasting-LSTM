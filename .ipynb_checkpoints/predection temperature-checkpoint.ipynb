{
 "cells": [
  {
   "cell_type": "code",
   "execution_count": null,
   "id": "1316f618",
   "metadata": {},
   "outputs": [],
   "source": []
  },
  {
   "cell_type": "code",
   "execution_count": null,
   "id": "38f6e70d",
   "metadata": {},
   "outputs": [
    {
     "name": "stderr",
     "output_type": "stream",
     "text": [
      "WARNING: Retrying (Retry(total=4, connect=None, read=None, redirect=None, status=None)) after connection broken by 'NewConnectionError('<pip._vendor.urllib3.connection.HTTPSConnection object at 0x00000249D3367DF0>: Failed to establish a new connection: [WinError 10065] A socket operation was attempted to an unreachable host')': /simple/tkinter/\n",
      "WARNING: Retrying (Retry(total=3, connect=None, read=None, redirect=None, status=None)) after connection broken by 'NewConnectionError('<pip._vendor.urllib3.connection.HTTPSConnection object at 0x00000249D3367FD0>: Failed to establish a new connection: [Errno 11001] getaddrinfo failed')': /simple/tkinter/\n",
      "WARNING: Retrying (Retry(total=2, connect=None, read=None, redirect=None, status=None)) after connection broken by 'NewConnectionError('<pip._vendor.urllib3.connection.HTTPSConnection object at 0x00000249D3384460>: Failed to establish a new connection: [Errno 11001] getaddrinfo failed')': /simple/tkinter/\n",
      "WARNING: Retrying (Retry(total=1, connect=None, read=None, redirect=None, status=None)) after connection broken by 'NewConnectionError('<pip._vendor.urllib3.connection.HTTPSConnection object at 0x00000249D3384610>: Failed to establish a new connection: [Errno 11001] getaddrinfo failed')': /simple/tkinter/\n",
      "WARNING: Retrying (Retry(total=0, connect=None, read=None, redirect=None, status=None)) after connection broken by 'NewConnectionError('<pip._vendor.urllib3.connection.HTTPSConnection object at 0x00000249D33847C0>: Failed to establish a new connection: [Errno 11001] getaddrinfo failed')': /simple/tkinter/\n",
      "ERROR: Could not find a version that satisfies the requirement tkinter (from versions: none)\n",
      "ERROR: No matching distribution found for tkinter\n"
     ]
    }
   ],
   "source": [
    "!pip install tensorflow\n",
    "!pip install pandas\n",
    "!pip install numpy\n",
    "!pip install keras\n",
    "!pip install matplotlib \n",
    "!pip install pyplot \n",
    "!pip install os\n",
    "!pip install ipywidgets \n",
    "!pip install tkinter"
   ]
  },
  {
   "cell_type": "code",
   "execution_count": null,
   "id": "3d3b9aa7",
   "metadata": {},
   "outputs": [],
   "source": []
  },
  {
   "cell_type": "code",
   "execution_count": null,
   "id": "149cd2e1",
   "metadata": {},
   "outputs": [],
   "source": []
  },
  {
   "cell_type": "code",
   "execution_count": 3,
   "id": "f38c0e98",
   "metadata": {},
   "outputs": [],
   "source": [
    "\n",
    "import tensorflow as tf\n",
    "import os\n",
    "import pandas as pd\n",
    "import numpy as np\n",
    "from tensorflow.keras.models import Sequential\n",
    "from tensorflow.keras.layers import *\n",
    "from tensorflow.keras.callbacks import ModelCheckpoint\n",
    "from tensorflow.keras.losses import MeanSquaredError\n",
    "from tensorflow.keras.metrics import RootMeanSquaredError\n",
    "from tensorflow.keras.optimizers import Adam\n",
    "from tensorflow.keras.models import load_model\n",
    "import matplotlib.pyplot as plt\n"
   ]
  },
  {
   "cell_type": "code",
   "execution_count": 4,
   "id": "78bf5b87",
   "metadata": {},
   "outputs": [
    {
     "data": {
      "text/html": [
       "<div>\n",
       "<style scoped>\n",
       "    .dataframe tbody tr th:only-of-type {\n",
       "        vertical-align: middle;\n",
       "    }\n",
       "\n",
       "    .dataframe tbody tr th {\n",
       "        vertical-align: top;\n",
       "    }\n",
       "\n",
       "    .dataframe thead th {\n",
       "        text-align: right;\n",
       "    }\n",
       "</style>\n",
       "<table border=\"1\" class=\"dataframe\">\n",
       "  <thead>\n",
       "    <tr style=\"text-align: right;\">\n",
       "      <th></th>\n",
       "      <th>Date Time</th>\n",
       "      <th>p (mbar)</th>\n",
       "      <th>T (degC)</th>\n",
       "      <th>Tpot (K)</th>\n",
       "      <th>Tdew (degC)</th>\n",
       "      <th>rh (%)</th>\n",
       "      <th>VPmax (mbar)</th>\n",
       "      <th>VPact (mbar)</th>\n",
       "      <th>VPdef (mbar)</th>\n",
       "      <th>sh (g/kg)</th>\n",
       "      <th>H2OC (mmol/mol)</th>\n",
       "      <th>rho (g/m**3)</th>\n",
       "      <th>wv (m/s)</th>\n",
       "      <th>max. wv (m/s)</th>\n",
       "      <th>wd (deg)</th>\n",
       "    </tr>\n",
       "  </thead>\n",
       "  <tbody>\n",
       "    <tr>\n",
       "      <th>0</th>\n",
       "      <td>01.01.2009 00:10:00</td>\n",
       "      <td>996.52</td>\n",
       "      <td>-8.02</td>\n",
       "      <td>265.40</td>\n",
       "      <td>-8.90</td>\n",
       "      <td>93.3</td>\n",
       "      <td>3.33</td>\n",
       "      <td>3.11</td>\n",
       "      <td>0.22</td>\n",
       "      <td>1.94</td>\n",
       "      <td>3.12</td>\n",
       "      <td>1307.75</td>\n",
       "      <td>1.03</td>\n",
       "      <td>1.75</td>\n",
       "      <td>152.3</td>\n",
       "    </tr>\n",
       "    <tr>\n",
       "      <th>1</th>\n",
       "      <td>01.01.2009 00:20:00</td>\n",
       "      <td>996.57</td>\n",
       "      <td>-8.41</td>\n",
       "      <td>265.01</td>\n",
       "      <td>-9.28</td>\n",
       "      <td>93.4</td>\n",
       "      <td>3.23</td>\n",
       "      <td>3.02</td>\n",
       "      <td>0.21</td>\n",
       "      <td>1.89</td>\n",
       "      <td>3.03</td>\n",
       "      <td>1309.80</td>\n",
       "      <td>0.72</td>\n",
       "      <td>1.50</td>\n",
       "      <td>136.1</td>\n",
       "    </tr>\n",
       "    <tr>\n",
       "      <th>2</th>\n",
       "      <td>01.01.2009 00:30:00</td>\n",
       "      <td>996.53</td>\n",
       "      <td>-8.51</td>\n",
       "      <td>264.91</td>\n",
       "      <td>-9.31</td>\n",
       "      <td>93.9</td>\n",
       "      <td>3.21</td>\n",
       "      <td>3.01</td>\n",
       "      <td>0.20</td>\n",
       "      <td>1.88</td>\n",
       "      <td>3.02</td>\n",
       "      <td>1310.24</td>\n",
       "      <td>0.19</td>\n",
       "      <td>0.63</td>\n",
       "      <td>171.6</td>\n",
       "    </tr>\n",
       "    <tr>\n",
       "      <th>3</th>\n",
       "      <td>01.01.2009 00:40:00</td>\n",
       "      <td>996.51</td>\n",
       "      <td>-8.31</td>\n",
       "      <td>265.12</td>\n",
       "      <td>-9.07</td>\n",
       "      <td>94.2</td>\n",
       "      <td>3.26</td>\n",
       "      <td>3.07</td>\n",
       "      <td>0.19</td>\n",
       "      <td>1.92</td>\n",
       "      <td>3.08</td>\n",
       "      <td>1309.19</td>\n",
       "      <td>0.34</td>\n",
       "      <td>0.50</td>\n",
       "      <td>198.0</td>\n",
       "    </tr>\n",
       "    <tr>\n",
       "      <th>4</th>\n",
       "      <td>01.01.2009 00:50:00</td>\n",
       "      <td>996.51</td>\n",
       "      <td>-8.27</td>\n",
       "      <td>265.15</td>\n",
       "      <td>-9.04</td>\n",
       "      <td>94.1</td>\n",
       "      <td>3.27</td>\n",
       "      <td>3.08</td>\n",
       "      <td>0.19</td>\n",
       "      <td>1.92</td>\n",
       "      <td>3.09</td>\n",
       "      <td>1309.00</td>\n",
       "      <td>0.32</td>\n",
       "      <td>0.63</td>\n",
       "      <td>214.3</td>\n",
       "    </tr>\n",
       "  </tbody>\n",
       "</table>\n",
       "</div>"
      ],
      "text/plain": [
       "             Date Time  p (mbar)  T (degC)  Tpot (K)  Tdew (degC)  rh (%)  \\\n",
       "0  01.01.2009 00:10:00    996.52     -8.02    265.40        -8.90    93.3   \n",
       "1  01.01.2009 00:20:00    996.57     -8.41    265.01        -9.28    93.4   \n",
       "2  01.01.2009 00:30:00    996.53     -8.51    264.91        -9.31    93.9   \n",
       "3  01.01.2009 00:40:00    996.51     -8.31    265.12        -9.07    94.2   \n",
       "4  01.01.2009 00:50:00    996.51     -8.27    265.15        -9.04    94.1   \n",
       "\n",
       "   VPmax (mbar)  VPact (mbar)  VPdef (mbar)  sh (g/kg)  H2OC (mmol/mol)  \\\n",
       "0          3.33          3.11          0.22       1.94             3.12   \n",
       "1          3.23          3.02          0.21       1.89             3.03   \n",
       "2          3.21          3.01          0.20       1.88             3.02   \n",
       "3          3.26          3.07          0.19       1.92             3.08   \n",
       "4          3.27          3.08          0.19       1.92             3.09   \n",
       "\n",
       "   rho (g/m**3)  wv (m/s)  max. wv (m/s)  wd (deg)  \n",
       "0       1307.75      1.03           1.75     152.3  \n",
       "1       1309.80      0.72           1.50     136.1  \n",
       "2       1310.24      0.19           0.63     171.6  \n",
       "3       1309.19      0.34           0.50     198.0  \n",
       "4       1309.00      0.32           0.63     214.3  "
      ]
     },
     "execution_count": 4,
     "metadata": {},
     "output_type": "execute_result"
    }
   ],
   "source": [
    "#Importing dataset\n",
    "csv_path = r'C:\\Users\\omara.DESKTOP-UM36EEF\\Desktop\\Etude\\jena_climate_2009_2016.csv'\n",
    "df = pd.read_csv(csv_path)\n",
    "df.head()\n",
    "\n"
   ]
  },
  {
   "cell_type": "code",
   "execution_count": 5,
   "id": "4e6bf3ba",
   "metadata": {},
   "outputs": [],
   "source": [
    "#Converting the index to date time\n",
    "df.index = pd.to_datetime(df['Date Time'],format = '%d.%m.%Y %H:%M:%S')\n"
   ]
  },
  {
   "cell_type": "code",
   "execution_count": 6,
   "id": "fa5c888a",
   "metadata": {},
   "outputs": [
    {
     "data": {
      "text/html": [
       "<div>\n",
       "<style scoped>\n",
       "    .dataframe tbody tr th:only-of-type {\n",
       "        vertical-align: middle;\n",
       "    }\n",
       "\n",
       "    .dataframe tbody tr th {\n",
       "        vertical-align: top;\n",
       "    }\n",
       "\n",
       "    .dataframe thead th {\n",
       "        text-align: right;\n",
       "    }\n",
       "</style>\n",
       "<table border=\"1\" class=\"dataframe\">\n",
       "  <thead>\n",
       "    <tr style=\"text-align: right;\">\n",
       "      <th></th>\n",
       "      <th>Date Time</th>\n",
       "      <th>p (mbar)</th>\n",
       "      <th>T (degC)</th>\n",
       "      <th>Tpot (K)</th>\n",
       "      <th>Tdew (degC)</th>\n",
       "      <th>rh (%)</th>\n",
       "      <th>VPmax (mbar)</th>\n",
       "      <th>VPact (mbar)</th>\n",
       "      <th>VPdef (mbar)</th>\n",
       "      <th>sh (g/kg)</th>\n",
       "      <th>H2OC (mmol/mol)</th>\n",
       "      <th>rho (g/m**3)</th>\n",
       "      <th>wv (m/s)</th>\n",
       "      <th>max. wv (m/s)</th>\n",
       "      <th>wd (deg)</th>\n",
       "    </tr>\n",
       "    <tr>\n",
       "      <th>Date Time</th>\n",
       "      <th></th>\n",
       "      <th></th>\n",
       "      <th></th>\n",
       "      <th></th>\n",
       "      <th></th>\n",
       "      <th></th>\n",
       "      <th></th>\n",
       "      <th></th>\n",
       "      <th></th>\n",
       "      <th></th>\n",
       "      <th></th>\n",
       "      <th></th>\n",
       "      <th></th>\n",
       "      <th></th>\n",
       "      <th></th>\n",
       "    </tr>\n",
       "  </thead>\n",
       "  <tbody>\n",
       "    <tr>\n",
       "      <th>2009-01-01 00:10:00</th>\n",
       "      <td>01.01.2009 00:10:00</td>\n",
       "      <td>996.52</td>\n",
       "      <td>-8.02</td>\n",
       "      <td>265.40</td>\n",
       "      <td>-8.90</td>\n",
       "      <td>93.3</td>\n",
       "      <td>3.33</td>\n",
       "      <td>3.11</td>\n",
       "      <td>0.22</td>\n",
       "      <td>1.94</td>\n",
       "      <td>3.12</td>\n",
       "      <td>1307.75</td>\n",
       "      <td>1.03</td>\n",
       "      <td>1.75</td>\n",
       "      <td>152.3</td>\n",
       "    </tr>\n",
       "    <tr>\n",
       "      <th>2009-01-01 00:20:00</th>\n",
       "      <td>01.01.2009 00:20:00</td>\n",
       "      <td>996.57</td>\n",
       "      <td>-8.41</td>\n",
       "      <td>265.01</td>\n",
       "      <td>-9.28</td>\n",
       "      <td>93.4</td>\n",
       "      <td>3.23</td>\n",
       "      <td>3.02</td>\n",
       "      <td>0.21</td>\n",
       "      <td>1.89</td>\n",
       "      <td>3.03</td>\n",
       "      <td>1309.80</td>\n",
       "      <td>0.72</td>\n",
       "      <td>1.50</td>\n",
       "      <td>136.1</td>\n",
       "    </tr>\n",
       "    <tr>\n",
       "      <th>2009-01-01 00:30:00</th>\n",
       "      <td>01.01.2009 00:30:00</td>\n",
       "      <td>996.53</td>\n",
       "      <td>-8.51</td>\n",
       "      <td>264.91</td>\n",
       "      <td>-9.31</td>\n",
       "      <td>93.9</td>\n",
       "      <td>3.21</td>\n",
       "      <td>3.01</td>\n",
       "      <td>0.20</td>\n",
       "      <td>1.88</td>\n",
       "      <td>3.02</td>\n",
       "      <td>1310.24</td>\n",
       "      <td>0.19</td>\n",
       "      <td>0.63</td>\n",
       "      <td>171.6</td>\n",
       "    </tr>\n",
       "    <tr>\n",
       "      <th>2009-01-01 00:40:00</th>\n",
       "      <td>01.01.2009 00:40:00</td>\n",
       "      <td>996.51</td>\n",
       "      <td>-8.31</td>\n",
       "      <td>265.12</td>\n",
       "      <td>-9.07</td>\n",
       "      <td>94.2</td>\n",
       "      <td>3.26</td>\n",
       "      <td>3.07</td>\n",
       "      <td>0.19</td>\n",
       "      <td>1.92</td>\n",
       "      <td>3.08</td>\n",
       "      <td>1309.19</td>\n",
       "      <td>0.34</td>\n",
       "      <td>0.50</td>\n",
       "      <td>198.0</td>\n",
       "    </tr>\n",
       "    <tr>\n",
       "      <th>2009-01-01 00:50:00</th>\n",
       "      <td>01.01.2009 00:50:00</td>\n",
       "      <td>996.51</td>\n",
       "      <td>-8.27</td>\n",
       "      <td>265.15</td>\n",
       "      <td>-9.04</td>\n",
       "      <td>94.1</td>\n",
       "      <td>3.27</td>\n",
       "      <td>3.08</td>\n",
       "      <td>0.19</td>\n",
       "      <td>1.92</td>\n",
       "      <td>3.09</td>\n",
       "      <td>1309.00</td>\n",
       "      <td>0.32</td>\n",
       "      <td>0.63</td>\n",
       "      <td>214.3</td>\n",
       "    </tr>\n",
       "  </tbody>\n",
       "</table>\n",
       "</div>"
      ],
      "text/plain": [
       "                               Date Time  p (mbar)  T (degC)  Tpot (K)  \\\n",
       "Date Time                                                                \n",
       "2009-01-01 00:10:00  01.01.2009 00:10:00    996.52     -8.02    265.40   \n",
       "2009-01-01 00:20:00  01.01.2009 00:20:00    996.57     -8.41    265.01   \n",
       "2009-01-01 00:30:00  01.01.2009 00:30:00    996.53     -8.51    264.91   \n",
       "2009-01-01 00:40:00  01.01.2009 00:40:00    996.51     -8.31    265.12   \n",
       "2009-01-01 00:50:00  01.01.2009 00:50:00    996.51     -8.27    265.15   \n",
       "\n",
       "                     Tdew (degC)  rh (%)  VPmax (mbar)  VPact (mbar)  \\\n",
       "Date Time                                                              \n",
       "2009-01-01 00:10:00        -8.90    93.3          3.33          3.11   \n",
       "2009-01-01 00:20:00        -9.28    93.4          3.23          3.02   \n",
       "2009-01-01 00:30:00        -9.31    93.9          3.21          3.01   \n",
       "2009-01-01 00:40:00        -9.07    94.2          3.26          3.07   \n",
       "2009-01-01 00:50:00        -9.04    94.1          3.27          3.08   \n",
       "\n",
       "                     VPdef (mbar)  sh (g/kg)  H2OC (mmol/mol)  rho (g/m**3)  \\\n",
       "Date Time                                                                     \n",
       "2009-01-01 00:10:00          0.22       1.94             3.12       1307.75   \n",
       "2009-01-01 00:20:00          0.21       1.89             3.03       1309.80   \n",
       "2009-01-01 00:30:00          0.20       1.88             3.02       1310.24   \n",
       "2009-01-01 00:40:00          0.19       1.92             3.08       1309.19   \n",
       "2009-01-01 00:50:00          0.19       1.92             3.09       1309.00   \n",
       "\n",
       "                     wv (m/s)  max. wv (m/s)  wd (deg)  \n",
       "Date Time                                               \n",
       "2009-01-01 00:10:00      1.03           1.75     152.3  \n",
       "2009-01-01 00:20:00      0.72           1.50     136.1  \n",
       "2009-01-01 00:30:00      0.19           0.63     171.6  \n",
       "2009-01-01 00:40:00      0.34           0.50     198.0  \n",
       "2009-01-01 00:50:00      0.32           0.63     214.3  "
      ]
     },
     "execution_count": 6,
     "metadata": {},
     "output_type": "execute_result"
    }
   ],
   "source": [
    "df.head()\n"
   ]
  },
  {
   "cell_type": "code",
   "execution_count": 7,
   "id": "406a6686",
   "metadata": {},
   "outputs": [
    {
     "data": {
      "text/plain": [
       "<Axes: xlabel='Date Time'>"
      ]
     },
     "execution_count": 7,
     "metadata": {},
     "output_type": "execute_result"
    },
    {
     "data": {
      "image/png": "[encoded data removed]",
      "text/plain": [
       "<Figure size 640x480 with 1 Axes>"
      ]
     },
     "metadata": {},
     "output_type": "display_data"
    }
   ],
   "source": [
    "\n",
    "#Plotting the temperature\n",
    "temp = df['T (degC)']\n",
    "temp.plot()\n"
   ]
  },
  {
   "cell_type": "code",
   "execution_count": 8,
   "id": "765ad18f",
   "metadata": {},
   "outputs": [],
   "source": [
    "#Look at the last 4 values in order to set them as the target variable\n",
    "# x = [[[1],[2]],[3],[4],[5]]] y= [6]\n",
    "# [[[2],[3],[4],[5],[6]]] y = [7]\n",
    "\n",
    "def df_to_X_y(df,window_size = 5):\n",
    "  df_as_np = df.to_numpy()\n",
    "  X = []\n",
    "  y = []\n",
    "  for i in range(len(df_as_np)-window_size):\n",
    "    row = [[a] for a in df_as_np[i:i+window_size]]\n",
    "    X.append(row)\n",
    "    label = df_as_np[i+window_size]\n",
    "    y.append(label)\n",
    "  return np.array(X),np.array(y)\n"
   ]
  },
  {
   "cell_type": "code",
   "execution_count": 9,
   "id": "7a26c3d9",
   "metadata": {},
   "outputs": [
    {
     "data": {
      "text/plain": [
       "((420546, 5, 1), (420546,))"
      ]
     },
     "execution_count": 9,
     "metadata": {},
     "output_type": "execute_result"
    }
   ],
   "source": [
    "#Call the function to store the previous 5 temperatures for the row defined.\n",
    "window_size = 5\n",
    "X,y = df_to_X_y(temp,window_size)\n",
    "X.shape,y.shape\n"
   ]
  },
  {
   "cell_type": "code",
   "execution_count": 10,
   "id": "19c1e2c8",
   "metadata": {},
   "outputs": [],
   "source": [
    "X_train,y_train = X[:357464], y[:357464]\n",
    "X_val,y_val = X[357464:378490], y[357464:378490]\n",
    "X_test,y_test = X[378490:], y[378490:]\n",
    "\n"
   ]
  },
  {
   "cell_type": "code",
   "execution_count": 11,
   "id": "f15c2e5e",
   "metadata": {},
   "outputs": [
    {
     "name": "stdout",
     "output_type": "stream",
     "text": [
      "(21026, 5, 1) (21026,)\n"
     ]
    }
   ],
   "source": [
    "print(X_val.shape,y_val.shape)\n",
    "\n",
    "\n"
   ]
  },
  {
   "cell_type": "code",
   "execution_count": 12,
   "id": "26e797ec",
   "metadata": {},
   "outputs": [
    {
     "name": "stdout",
     "output_type": "stream",
     "text": [
      "Model: \"sequential\"\n",
      "_________________________________________________________________\n",
      " Layer (type)                Output Shape              Param #   \n",
      "=================================================================\n",
      " lstm (LSTM)                 (None, 64)                16896     \n",
      "                                                                 \n",
      " dense (Dense)               (None, 8)                 520       \n",
      "                                                                 \n",
      " dense_1 (Dense)             (None, 1)                 9         \n",
      "                                                                 \n",
      "=================================================================\n",
      "Total params: 17,425\n",
      "Trainable params: 17,425\n",
      "Non-trainable params: 0\n",
      "_________________________________________________________________\n"
     ]
    }
   ],
   "source": [
    "model1 = Sequential()\n",
    "model1.add(InputLayer((5,1)))\n",
    "model1.add(LSTM(64))\n",
    "model1.add(Dense(8,'relu'))\n",
    "model1.add(Dense(1,'linear'))\n",
    "\n",
    "model1.summary()\n"
   ]
  },
  {
   "cell_type": "code",
   "execution_count": 13,
   "id": "fb43ee86",
   "metadata": {},
   "outputs": [],
   "source": [
    "\n",
    "cp = ModelCheckpoint('model1/',save_best_only=True)\n",
    "model1.compile(loss=MeanSquaredError(),optimizer=Adam(learning_rate = 1e-4),metrics = [RootMeanSquaredError()])\n",
    "\n"
   ]
  },
  {
   "cell_type": "code",
   "execution_count": 14,
   "id": "3f403892",
   "metadata": {},
   "outputs": [
    {
     "name": "stdout",
     "output_type": "stream",
     "text": [
      "Epoch 1/50\n",
      "11168/11171 [============================>.] - ETA: 0s - loss: 4.7561 - root_mean_squared_error: 2.1808"
     ]
    },
    {
     "name": "stderr",
     "output_type": "stream",
     "text": [
      "WARNING:absl:Found untraced functions such as _update_step_xla, lstm_cell_layer_call_fn, lstm_cell_layer_call_and_return_conditional_losses while saving (showing 3 of 3). These functions will not be directly callable after loading.\n"
     ]
    },
    {
     "name": "stdout",
     "output_type": "stream",
     "text": [
      "INFO:tensorflow:Assets written to: model1\\assets\n"
     ]
    },
    {
     "name": "stderr",
     "output_type": "stream",
     "text": [
      "INFO:tensorflow:Assets written to: model1\\assets\n"
     ]
    },
    {
     "name": "stdout",
     "output_type": "stream",
     "text": [
      "11171/11171 [==============================] - 51s 4ms/step - loss: 4.7549 - root_mean_squared_error: 2.1806 - val_loss: 0.0358 - val_root_mean_squared_error: 0.1892\n",
      "Epoch 2/50\n",
      "11171/11171 [==============================] - ETA: 0s - loss: 0.0483 - root_mean_squared_error: 0.2197"
     ]
    },
    {
     "name": "stderr",
     "output_type": "stream",
     "text": [
      "WARNING:absl:Found untraced functions such as _update_step_xla, lstm_cell_layer_call_fn, lstm_cell_layer_call_and_return_conditional_losses while saving (showing 3 of 3). These functions will not be directly callable after loading.\n"
     ]
    },
    {
     "name": "stdout",
     "output_type": "stream",
     "text": [
      "INFO:tensorflow:Assets written to: model1\\assets\n"
     ]
    },
    {
     "name": "stderr",
     "output_type": "stream",
     "text": [
      "INFO:tensorflow:Assets written to: model1\\assets\n"
     ]
    },
    {
     "name": "stdout",
     "output_type": "stream",
     "text": [
      "11171/11171 [==============================] - 51s 5ms/step - loss: 0.0483 - root_mean_squared_error: 0.2197 - val_loss: 0.0281 - val_root_mean_squared_error: 0.1678\n",
      "Epoch 3/50\n",
      "11171/11171 [==============================] - ETA: 0s - loss: 0.0451 - root_mean_squared_error: 0.2124"
     ]
    },
    {
     "name": "stderr",
     "output_type": "stream",
     "text": [
      "WARNING:absl:Found untraced functions such as _update_step_xla, lstm_cell_layer_call_fn, lstm_cell_layer_call_and_return_conditional_losses while saving (showing 3 of 3). These functions will not be directly callable after loading.\n"
     ]
    },
    {
     "name": "stdout",
     "output_type": "stream",
     "text": [
      "INFO:tensorflow:Assets written to: model1\\assets\n"
     ]
    },
    {
     "name": "stderr",
     "output_type": "stream",
     "text": [
      "INFO:tensorflow:Assets written to: model1\\assets\n"
     ]
    },
    {
     "name": "stdout",
     "output_type": "stream",
     "text": [
      "11171/11171 [==============================] - 51s 5ms/step - loss: 0.0451 - root_mean_squared_error: 0.2124 - val_loss: 0.0272 - val_root_mean_squared_error: 0.1648\n",
      "Epoch 4/50\n",
      "11170/11171 [============================>.] - ETA: 0s - loss: 0.0445 - root_mean_squared_error: 0.2108"
     ]
    },
    {
     "name": "stderr",
     "output_type": "stream",
     "text": [
      "WARNING:absl:Found untraced functions such as _update_step_xla, lstm_cell_layer_call_fn, lstm_cell_layer_call_and_return_conditional_losses while saving (showing 3 of 3). These functions will not be directly callable after loading.\n"
     ]
    },
    {
     "name": "stdout",
     "output_type": "stream",
     "text": [
      "INFO:tensorflow:Assets written to: model1\\assets\n"
     ]
    },
    {
     "name": "stderr",
     "output_type": "stream",
     "text": [
      "INFO:tensorflow:Assets written to: model1\\assets\n"
     ]
    },
    {
     "name": "stdout",
     "output_type": "stream",
     "text": [
      "11171/11171 [==============================] - 48s 4ms/step - loss: 0.0445 - root_mean_squared_error: 0.2108 - val_loss: 0.0271 - val_root_mean_squared_error: 0.1646\n",
      "Epoch 5/50\n",
      "11171/11171 [==============================] - 51s 5ms/step - loss: 0.0442 - root_mean_squared_error: 0.2101 - val_loss: 0.0278 - val_root_mean_squared_error: 0.1666\n",
      "Epoch 6/50\n",
      "11166/11171 [============================>.] - ETA: 0s - loss: 0.0441 - root_mean_squared_error: 0.2101"
     ]
    },
    {
     "name": "stderr",
     "output_type": "stream",
     "text": [
      "WARNING:absl:Found untraced functions such as _update_step_xla, lstm_cell_layer_call_fn, lstm_cell_layer_call_and_return_conditional_losses while saving (showing 3 of 3). These functions will not be directly callable after loading.\n"
     ]
    },
    {
     "name": "stdout",
     "output_type": "stream",
     "text": [
      "INFO:tensorflow:Assets written to: model1\\assets\n"
     ]
    },
    {
     "name": "stderr",
     "output_type": "stream",
     "text": [
      "INFO:tensorflow:Assets written to: model1\\assets\n"
     ]
    },
    {
     "name": "stdout",
     "output_type": "stream",
     "text": [
      "11171/11171 [==============================] - 50s 4ms/step - loss: 0.0441 - root_mean_squared_error: 0.2101 - val_loss: 0.0266 - val_root_mean_squared_error: 0.1632\n",
      "Epoch 7/50\n",
      "11171/11171 [==============================] - 46s 4ms/step - loss: 0.0440 - root_mean_squared_error: 0.2097 - val_loss: 0.0267 - val_root_mean_squared_error: 0.1633\n",
      "Epoch 8/50\n",
      "11171/11171 [==============================] - 48s 4ms/step - loss: 0.0439 - root_mean_squared_error: 0.2095 - val_loss: 0.0289 - val_root_mean_squared_error: 0.1700\n",
      "Epoch 9/50\n",
      "11171/11171 [==============================] - 46s 4ms/step - loss: 0.0439 - root_mean_squared_error: 0.2096 - val_loss: 0.0279 - val_root_mean_squared_error: 0.1669\n",
      "Epoch 10/50\n",
      "11159/11171 [============================>.] - ETA: 0s - loss: 0.0438 - root_mean_squared_error: 0.2093"
     ]
    },
    {
     "name": "stderr",
     "output_type": "stream",
     "text": [
      "WARNING:absl:Found untraced functions such as _update_step_xla, lstm_cell_layer_call_fn, lstm_cell_layer_call_and_return_conditional_losses while saving (showing 3 of 3). These functions will not be directly callable after loading.\n"
     ]
    },
    {
     "name": "stdout",
     "output_type": "stream",
     "text": [
      "INFO:tensorflow:Assets written to: model1\\assets\n"
     ]
    },
    {
     "name": "stderr",
     "output_type": "stream",
     "text": [
      "INFO:tensorflow:Assets written to: model1\\assets\n"
     ]
    },
    {
     "name": "stdout",
     "output_type": "stream",
     "text": [
      "11171/11171 [==============================] - 50s 4ms/step - loss: 0.0438 - root_mean_squared_error: 0.2093 - val_loss: 0.0265 - val_root_mean_squared_error: 0.1627\n",
      "Epoch 11/50\n",
      "11171/11171 [==============================] - 45s 4ms/step - loss: 0.0438 - root_mean_squared_error: 0.2092 - val_loss: 0.0266 - val_root_mean_squared_error: 0.1632\n",
      "Epoch 12/50\n",
      "11171/11171 [==============================] - 45s 4ms/step - loss: 0.0437 - root_mean_squared_error: 0.2090 - val_loss: 0.0277 - val_root_mean_squared_error: 0.1665\n",
      "Epoch 13/50\n",
      "11157/11171 [============================>.] - ETA: 0s - loss: 0.0437 - root_mean_squared_error: 0.2090"
     ]
    },
    {
     "name": "stderr",
     "output_type": "stream",
     "text": [
      "WARNING:absl:Found untraced functions such as _update_step_xla, lstm_cell_layer_call_fn, lstm_cell_layer_call_and_return_conditional_losses while saving (showing 3 of 3). These functions will not be directly callable after loading.\n"
     ]
    },
    {
     "name": "stdout",
     "output_type": "stream",
     "text": [
      "INFO:tensorflow:Assets written to: model1\\assets\n"
     ]
    },
    {
     "name": "stderr",
     "output_type": "stream",
     "text": [
      "INFO:tensorflow:Assets written to: model1\\assets\n"
     ]
    },
    {
     "name": "stdout",
     "output_type": "stream",
     "text": [
      "11171/11171 [==============================] - 48s 4ms/step - loss: 0.0437 - root_mean_squared_error: 0.2090 - val_loss: 0.0264 - val_root_mean_squared_error: 0.1625\n",
      "Epoch 14/50\n",
      "11171/11171 [==============================] - 45s 4ms/step - loss: 0.0437 - root_mean_squared_error: 0.2090 - val_loss: 0.0266 - val_root_mean_squared_error: 0.1630\n",
      "Epoch 15/50\n",
      "11171/11171 [==============================] - 45s 4ms/step - loss: 0.0436 - root_mean_squared_error: 0.2087 - val_loss: 0.0271 - val_root_mean_squared_error: 0.1645\n",
      "Epoch 16/50\n",
      "11171/11171 [==============================] - 45s 4ms/step - loss: 0.0436 - root_mean_squared_error: 0.2087 - val_loss: 0.0271 - val_root_mean_squared_error: 0.1647\n",
      "Epoch 17/50\n",
      "11171/11171 [==============================] - 46s 4ms/step - loss: 0.0435 - root_mean_squared_error: 0.2086 - val_loss: 0.0267 - val_root_mean_squared_error: 0.1633\n",
      "Epoch 18/50\n",
      "11171/11171 [==============================] - 46s 4ms/step - loss: 0.0435 - root_mean_squared_error: 0.2086 - val_loss: 0.0265 - val_root_mean_squared_error: 0.1627\n",
      "Epoch 19/50\n",
      "11171/11171 [==============================] - 47s 4ms/step - loss: 0.0435 - root_mean_squared_error: 0.2086 - val_loss: 0.0265 - val_root_mean_squared_error: 0.1628\n",
      "Epoch 20/50\n",
      "11171/11171 [==============================] - 45s 4ms/step - loss: 0.0435 - root_mean_squared_error: 0.2085 - val_loss: 0.0267 - val_root_mean_squared_error: 0.1633\n",
      "Epoch 21/50\n",
      "11171/11171 [==============================] - 44s 4ms/step - loss: 0.0434 - root_mean_squared_error: 0.2084 - val_loss: 0.0269 - val_root_mean_squared_error: 0.1640\n",
      "Epoch 22/50\n",
      "11171/11171 [==============================] - 44s 4ms/step - loss: 0.0434 - root_mean_squared_error: 0.2084 - val_loss: 0.0265 - val_root_mean_squared_error: 0.1628\n",
      "Epoch 23/50\n",
      "11171/11171 [==============================] - 44s 4ms/step - loss: 0.0434 - root_mean_squared_error: 0.2082 - val_loss: 0.0269 - val_root_mean_squared_error: 0.1641\n",
      "Epoch 24/50\n",
      "11171/11171 [==============================] - 44s 4ms/step - loss: 0.0434 - root_mean_squared_error: 0.2083 - val_loss: 0.0267 - val_root_mean_squared_error: 0.1633\n",
      "Epoch 25/50\n",
      "11171/11171 [==============================] - 44s 4ms/step - loss: 0.0433 - root_mean_squared_error: 0.2081 - val_loss: 0.0267 - val_root_mean_squared_error: 0.1635\n",
      "Epoch 26/50\n",
      "11171/11171 [==============================] - 44s 4ms/step - loss: 0.0433 - root_mean_squared_error: 0.2081 - val_loss: 0.0268 - val_root_mean_squared_error: 0.1636\n",
      "Epoch 27/50\n",
      "11171/11171 [==============================] - 47s 4ms/step - loss: 0.0433 - root_mean_squared_error: 0.2080 - val_loss: 0.0266 - val_root_mean_squared_error: 0.1632\n",
      "Epoch 28/50\n",
      "11171/11171 [==============================] - 52s 5ms/step - loss: 0.0433 - root_mean_squared_error: 0.2081 - val_loss: 0.0265 - val_root_mean_squared_error: 0.1628\n",
      "Epoch 29/50\n",
      "11171/11171 [==============================] - 49s 4ms/step - loss: 0.0433 - root_mean_squared_error: 0.2080 - val_loss: 0.0266 - val_root_mean_squared_error: 0.1631\n",
      "Epoch 30/50\n",
      "11171/11171 [==============================] - 49s 4ms/step - loss: 0.0432 - root_mean_squared_error: 0.2078 - val_loss: 0.0268 - val_root_mean_squared_error: 0.1637\n",
      "Epoch 31/50\n",
      "11171/11171 [==============================] - 49s 4ms/step - loss: 0.0432 - root_mean_squared_error: 0.2079 - val_loss: 0.0269 - val_root_mean_squared_error: 0.1641\n",
      "Epoch 32/50\n",
      "11171/11171 [==============================] - 48s 4ms/step - loss: 0.0432 - root_mean_squared_error: 0.2079 - val_loss: 0.0268 - val_root_mean_squared_error: 0.1637\n",
      "Epoch 33/50\n",
      "11171/11171 [==============================] - 48s 4ms/step - loss: 0.0432 - root_mean_squared_error: 0.2077 - val_loss: 0.0265 - val_root_mean_squared_error: 0.1629\n",
      "Epoch 34/50\n",
      "11171/11171 [==============================] - 48s 4ms/step - loss: 0.0431 - root_mean_squared_error: 0.2077 - val_loss: 0.0266 - val_root_mean_squared_error: 0.1630\n",
      "Epoch 35/50\n",
      "11171/11171 [==============================] - 48s 4ms/step - loss: 0.0432 - root_mean_squared_error: 0.2078 - val_loss: 0.0265 - val_root_mean_squared_error: 0.1628\n",
      "Epoch 36/50\n",
      "11167/11171 [============================>.] - ETA: 0s - loss: 0.0431 - root_mean_squared_error: 0.2077"
     ]
    },
    {
     "name": "stderr",
     "output_type": "stream",
     "text": [
      "WARNING:absl:Found untraced functions such as _update_step_xla, lstm_cell_layer_call_fn, lstm_cell_layer_call_and_return_conditional_losses while saving (showing 3 of 3). These functions will not be directly callable after loading.\n"
     ]
    },
    {
     "name": "stdout",
     "output_type": "stream",
     "text": [
      "INFO:tensorflow:Assets written to: model1\\assets\n"
     ]
    },
    {
     "name": "stderr",
     "output_type": "stream",
     "text": [
      "INFO:tensorflow:Assets written to: model1\\assets\n"
     ]
    },
    {
     "name": "stdout",
     "output_type": "stream",
     "text": [
      "11171/11171 [==============================] - 51s 5ms/step - loss: 0.0431 - root_mean_squared_error: 0.2077 - val_loss: 0.0264 - val_root_mean_squared_error: 0.1625\n",
      "Epoch 37/50\n",
      "11171/11171 [==============================] - 47s 4ms/step - loss: 0.0431 - root_mean_squared_error: 0.2077 - val_loss: 0.0269 - val_root_mean_squared_error: 0.1640\n",
      "Epoch 38/50\n",
      "11171/11171 [==============================] - 45s 4ms/step - loss: 0.0431 - root_mean_squared_error: 0.2076 - val_loss: 0.0265 - val_root_mean_squared_error: 0.1629\n",
      "Epoch 39/50\n",
      "11171/11171 [==============================] - 46s 4ms/step - loss: 0.0431 - root_mean_squared_error: 0.2077 - val_loss: 0.0266 - val_root_mean_squared_error: 0.1631\n",
      "Epoch 40/50\n",
      "11171/11171 [==============================] - 45s 4ms/step - loss: 0.0431 - root_mean_squared_error: 0.2075 - val_loss: 0.0270 - val_root_mean_squared_error: 0.1644\n",
      "Epoch 41/50\n",
      "11171/11171 [==============================] - 44s 4ms/step - loss: 0.0431 - root_mean_squared_error: 0.2075 - val_loss: 0.0275 - val_root_mean_squared_error: 0.1659\n",
      "Epoch 42/50\n",
      "11171/11171 [==============================] - 44s 4ms/step - loss: 0.0430 - root_mean_squared_error: 0.2074 - val_loss: 0.0272 - val_root_mean_squared_error: 0.1650\n",
      "Epoch 43/50\n",
      "11171/11171 [==============================] - 43s 4ms/step - loss: 0.0431 - root_mean_squared_error: 0.2075 - val_loss: 0.0266 - val_root_mean_squared_error: 0.1631\n",
      "Epoch 44/50\n",
      "11171/11171 [==============================] - 44s 4ms/step - loss: 0.0430 - root_mean_squared_error: 0.2074 - val_loss: 0.0267 - val_root_mean_squared_error: 0.1635\n",
      "Epoch 45/50\n",
      "11171/11171 [==============================] - 44s 4ms/step - loss: 0.0430 - root_mean_squared_error: 0.2074 - val_loss: 0.0272 - val_root_mean_squared_error: 0.1648\n",
      "Epoch 46/50\n",
      "11171/11171 [==============================] - 45s 4ms/step - loss: 0.0430 - root_mean_squared_error: 0.2073 - val_loss: 0.0266 - val_root_mean_squared_error: 0.1632\n",
      "Epoch 47/50\n",
      "11171/11171 [==============================] - 44s 4ms/step - loss: 0.0430 - root_mean_squared_error: 0.2073 - val_loss: 0.0272 - val_root_mean_squared_error: 0.1650\n",
      "Epoch 48/50\n",
      "11171/11171 [==============================] - 44s 4ms/step - loss: 0.0430 - root_mean_squared_error: 0.2074 - val_loss: 0.0264 - val_root_mean_squared_error: 0.1625\n",
      "Epoch 49/50\n",
      "11171/11171 [==============================] - 44s 4ms/step - loss: 0.0430 - root_mean_squared_error: 0.2074 - val_loss: 0.0266 - val_root_mean_squared_error: 0.1631\n",
      "Epoch 50/50\n",
      "11171/11171 [==============================] - 45s 4ms/step - loss: 0.0430 - root_mean_squared_error: 0.2073 - val_loss: 0.0269 - val_root_mean_squared_error: 0.1639\n"
     ]
    },
    {
     "data": {
      "text/plain": [
       "<keras.callbacks.History at 0x274362cac80>"
      ]
     },
     "execution_count": 14,
     "metadata": {},
     "output_type": "execute_result"
    }
   ],
   "source": [
    "\n",
    "model1.fit(X_train,y_train,validation_data = (X_val,y_val),epochs = 50,callbacks=[cp])\n"
   ]
  },
  {
   "cell_type": "code",
   "execution_count": 15,
   "id": "155ee778",
   "metadata": {},
   "outputs": [],
   "source": [
    "\n",
    "# save the model to disk\n",
    "model1.save('model1/my_model.h5')\n",
    "model1 = load_model('model1/my_model.h5')\n",
    "\n"
   ]
  },
  {
   "cell_type": "code",
   "execution_count": 16,
   "id": "c7ab999e",
   "metadata": {},
   "outputs": [
    {
     "name": "stdout",
     "output_type": "stream",
     "text": [
      "11171/11171 [==============================] - 24s 2ms/step\n",
      "        Train Predictions  Actual Value\n",
      "0               -8.294498         -8.05\n",
      "1               -7.913912         -7.62\n",
      "2               -7.416089         -7.62\n",
      "3               -7.601251         -7.91\n",
      "4               -7.961461         -8.43\n",
      "...                   ...           ...\n",
      "357459           6.643459          6.65\n",
      "357460           6.661121          6.60\n",
      "357461           6.584588          6.64\n",
      "357462           6.687378          6.55\n",
      "357463           6.500609          6.58\n",
      "\n",
      "[357464 rows x 2 columns]\n"
     ]
    }
   ],
   "source": [
    "train_predictions = model1.predict(X_train).flatten()\n",
    "train_results = pd.DataFrame(data = {'Train Predictions': train_predictions,'Actual Value': y_train})\n",
    "print(train_results)\n",
    "\n"
   ]
  },
  {
   "cell_type": "code",
   "execution_count": 17,
   "id": "f022c698",
   "metadata": {},
   "outputs": [
    {
     "data": {
      "text/plain": [
       "Text(0.5, 1.0, 'Predicted value vs Actual value')"
      ]
     },
     "execution_count": 17,
     "metadata": {},
     "output_type": "execute_result"
    },
    {
     "data": {
      "image/png": "[encoded data removed]",
      "text/plain": [
       "<Figure size 640x480 with 1 Axes>"
      ]
     },
     "metadata": {},
     "output_type": "display_data"
    }
   ],
   "source": [
    "\n",
    "plt.plot(train_results['Train Predictions'][50:100])\n",
    "plt.plot(train_results['Actual Value'][50:100])\n",
    "plt.title('Predicted value vs Actual value')\n"
   ]
  },
  {
   "cell_type": "code",
   "execution_count": null,
   "id": "611caf68",
   "metadata": {},
   "outputs": [],
   "source": []
  },
  {
   "cell_type": "code",
   "execution_count": 18,
   "id": "ed53d49f",
   "metadata": {},
   "outputs": [
    {
     "name": "stdout",
     "output_type": "stream",
     "text": [
      "658/658 [==============================] - 2s 2ms/step\n",
      "       Train Predictions  Actual Value\n",
      "0               6.618986          6.53\n",
      "1               6.501358          6.57\n",
      "2               6.604592          6.55\n",
      "3               6.542875          6.47\n",
      "4               6.437522          6.47\n",
      "...                  ...           ...\n",
      "21021           2.829841          2.82\n",
      "21022           2.839293          2.80\n",
      "21023           2.800634          2.84\n",
      "21024           2.882549          2.86\n",
      "21025           2.874857          2.81\n",
      "\n",
      "[21026 rows x 2 columns]\n"
     ]
    }
   ],
   "source": [
    "val_predictions = model1.predict(X_val).flatten()\n",
    "val_results = pd.DataFrame(data = {'Train Predictions': val_predictions,'Actual Value': y_val})\n",
    "print(val_results)\n"
   ]
  },
  {
   "cell_type": "code",
   "execution_count": 19,
   "id": "c41f28c5",
   "metadata": {},
   "outputs": [
    {
     "data": {
      "text/plain": [
       "Text(0.5, 1.0, 'Predicted value vs Actual value')"
      ]
     },
     "execution_count": 19,
     "metadata": {},
     "output_type": "execute_result"
    },
    {
     "data": {
      "image/png": "[encoded data removed]",
      "text/plain": [
       "<Figure size 640x480 with 1 Axes>"
      ]
     },
     "metadata": {},
     "output_type": "display_data"
    }
   ],
   "source": [
    "plt.plot(val_results['Train Predictions'][50:100])\n",
    "plt.plot(val_results['Actual Value'][50:100])\n",
    "\n",
    "plt.title('Predicted value vs Actual value')\n"
   ]
  },
  {
   "cell_type": "code",
   "execution_count": 20,
   "id": "e95c2578",
   "metadata": {},
   "outputs": [
    {
     "name": "stdout",
     "output_type": "stream",
     "text": [
      "1315/1315 [==============================] - 3s 2ms/step\n",
      "       Test Predictions  Actual Value\n",
      "0              2.789878          2.80\n",
      "1              2.813754          2.80\n",
      "2              2.803879          2.75\n",
      "3              2.722883          2.73\n",
      "4              2.730917          2.67\n",
      "...                 ...           ...\n",
      "42051         -3.999370         -4.05\n",
      "42052         -4.016844         -3.35\n",
      "42053         -3.067243         -3.16\n",
      "42054         -3.171413         -4.23\n",
      "42055         -4.561141         -4.82\n",
      "\n",
      "[42056 rows x 2 columns]\n"
     ]
    }
   ],
   "source": [
    "test_predictions = model1.predict(X_test).flatten()\n",
    "test_results = pd.DataFrame(data = {'Test Predictions': test_predictions,'Actual Value': y_test})\n",
    "print(test_results)"
   ]
  },
  {
   "cell_type": "code",
   "execution_count": 21,
   "id": "8ef9a8cc",
   "metadata": {},
   "outputs": [
    {
     "data": {
      "image/png": "[encoded data removed]",
      "text/plain": [
       "<Figure size 640x480 with 1 Axes>"
      ]
     },
     "metadata": {},
     "output_type": "display_data"
    }
   ],
   "source": [
    "import matplotlib.pyplot as plt\n",
    "\n",
    "test_results = pd.DataFrame(data={'Test Predictions': test_predictions, 'Actual Value': y_test})\n",
    "\n",
    "plt.plot(test_results['Test Predictions'][50:100])\n",
    "plt.plot(test_results['Actual Value'][50:100])\n",
    "plt.title('Predicted value vs Actual value')\n",
    "plt.legend(['Test Predictions', 'Actual Value'])\n",
    "plt.show()\n"
   ]
  }
 ],
 "metadata": {
  "kernelspec": {
   "display_name": "Python 3 (ipykernel)",
   "language": "python",
   "name": "python3"
  },
  "language_info": {
   "codemirror_mode": {
    "name": "ipython",
    "version": 3
   },
   "file_extension": ".py",
   "mimetype": "text/x-python",
   "name": "python",
   "nbconvert_exporter": "python",
   "pygments_lexer": "ipython3",
   "version": "3.13.5"
  }
 },
 "nbformat": 4,
 "nbformat_minor": 5
}
