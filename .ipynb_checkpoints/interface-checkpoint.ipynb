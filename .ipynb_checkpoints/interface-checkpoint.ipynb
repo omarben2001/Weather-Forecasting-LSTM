{
 "cells": [
  {
   "cell_type": "code",
   "execution_count": 1,
   "id": "a730bc3f",
   "metadata": {},
   "outputs": [
    {
     "name": "stderr",
     "output_type": "stream",
     "text": [
      "Exception in Tkinter callback\n",
      "Traceback (most recent call last):\n",
      "  File \"C:\\Users\\Omar Ait Ben Iyche\\anaconda3\\lib\\tkinter\\__init__.py\", line 1921, in __call__\n",
      "    return self.func(*args)\n",
      "  File \"C:\\Users\\Omar Ait Ben Iyche\\AppData\\Local\\Temp\\ipykernel_87972\\3777898011.py\", line 20, in predict\n",
      "    temp_values = [float(temp.get()) for temp in temp_fields]\n",
      "  File \"C:\\Users\\Omar Ait Ben Iyche\\AppData\\Local\\Temp\\ipykernel_87972\\3777898011.py\", line 20, in <listcomp>\n",
      "    temp_values = [float(temp.get()) for temp in temp_fields]\n",
      "ValueError: could not convert string to float: ''\n",
      "Exception in Tkinter callback\n",
      "Traceback (most recent call last):\n",
      "  File \"C:\\Users\\Omar Ait Ben Iyche\\anaconda3\\lib\\tkinter\\__init__.py\", line 1921, in __call__\n",
      "    return self.func(*args)\n",
      "  File \"C:\\Users\\Omar Ait Ben Iyche\\AppData\\Local\\Temp\\ipykernel_87972\\3777898011.py\", line 20, in predict\n",
      "    temp_values = [float(temp.get()) for temp in temp_fields]\n",
      "  File \"C:\\Users\\Omar Ait Ben Iyche\\AppData\\Local\\Temp\\ipykernel_87972\\3777898011.py\", line 20, in <listcomp>\n",
      "    temp_values = [float(temp.get()) for temp in temp_fields]\n",
      "ValueError: could not convert string to float: ''\n"
     ]
    },
    {
     "name": "stdout",
     "output_type": "stream",
     "text": [
      "1/1 [==============================] - 0s 459ms/step\n"
     ]
    }
   ],
   "source": [
    "import numpy as np\n",
    "import tkinter as tk\n",
    "from tkinter import messagebox\n",
    "from tensorflow.keras.models import load_model\n",
    "\n",
    "# Charger le modèle entraîné\n",
    "model = load_model('C:/Users/Omar Ait Ben Iyche/Desktop/weatherJenaAlmagne/model1/')\n",
    "\n",
    "# Fonction pour effectuer la prédiction\n",
    "def make_prediction(temp_list):\n",
    "    # Convertir la liste de températures en un tableau numpy avec la bonne forme\n",
    "    temp_array = np.array([[temp] for temp in temp_list]).reshape(1, 5, 1)\n",
    "    # Faire la prédiction\n",
    "    prediction = model.predict(temp_array)[0][0]\n",
    "    return prediction\n",
    "\n",
    "# Fonction pour gérer le clic sur le bouton \"Prédire\"\n",
    "def predict():\n",
    "    # Récupérer les valeurs des champs de saisie de températures\n",
    "    temp_values = [float(temp.get()) for temp in temp_fields]\n",
    "    # Vérifier que toutes les températures ont été saisies\n",
    "    if len(temp_values) < 5:\n",
    "        messagebox.showerror(\"Erreur\", \"Veuillez saisir toutes les températures.\")\n",
    "    else:\n",
    "        # Faire la prédiction\n",
    "        prediction = make_prediction(temp_values)\n",
    "        # Afficher la prédiction\n",
    "        prediction_label.config(text=\"Température prédite : {:.2f}\".format(prediction))\n",
    "\n",
    "# Créer la fenêtre principale\n",
    "root = tk.Tk()\n",
    "root.title(\"Prédiction de température\")\n",
    "\n",
    "# Ajouter un arrière-plan à la fenêtre principale\n",
    "# Créer le cadre pour les champs de saisie de températures\n",
    "temp_frame = tk.Frame(root, bg=\"#fff\")\n",
    "temp_frame.place(relx=0.5, rely=0.4, relwidth=0.9, relheight=0.1, anchor=\"center\")\n",
    "\n",
    "\n",
    "# Créer le cadre pour les champs de saisie de températures\n",
    "temp_frame = tk.Frame(root, bg=\"#fff\")\n",
    "temp_frame.place(relx=0.5, rely=0.4, relwidth=0.9, relheight=0.8, anchor=\"center\")\n",
    "# Ajouter une étiquette pour le titre de la frame\n",
    "title_label = tk.Label(temp_frame, text=\"Entrer les sinqs valeurs des Températures\", font=(\"Arial\", 20), bg=\"#fff\", fg=\"#000\")\n",
    "title_label.place(relx=0.5, rely=0.3, anchor=\"center\")\n",
    "\n",
    "\n",
    "# Créer les champs de saisie de températures\n",
    "temp_fields = []\n",
    "for i in range(5):\n",
    "    temp_field = tk.Entry(temp_frame, font=(\"Arial\", 14))\n",
    "    temp_field.place(relx=i/5, rely=0.5, relwidth=0.1, relheight=0.1, anchor=\"w\")\n",
    "    temp_fields.append(temp_field)\n",
    "\n",
    "# Créer le bouton \"Prédire\"\n",
    "predict_button = tk.Button(root, text=\"Prédire\", font=(\"Arial\", 16), bg=\"#fff\", fg=\"#000\", command=predict)\n",
    "predict_button.place(relx=0.5, rely=0.6, relwidth=0.3, relheight=0.1, anchor=\"center\" )\n",
    "\n",
    "# Créer l'étiquette pour afficher la prédiction\n",
    "prediction_label = tk.Label(root, text=\"Température prédite : \", font=(\"Arial\", 16), bg=\"#fff\", fg=\"#000\")\n",
    "prediction_label.place(relx=0.5, rely=0.8, relwidth=0.9, anchor=\"center\")\n",
    "\n",
    "# Lancer la boucle principale de l'interface utilisateur\n",
    "root.mainloop()\n"
   ]
  }
 ],
 "metadata": {
  "kernelspec": {
   "display_name": "Python 3 (ipykernel)",
   "language": "python",
   "name": "python3"
  },
  "language_info": {
   "codemirror_mode": {
    "name": "ipython",
    "version": 3
   },
   "file_extension": ".py",
   "mimetype": "text/x-python",
   "name": "python",
   "nbconvert_exporter": "python",
   "pygments_lexer": "ipython3",
   "version": "3.10.9"
  }
 },
 "nbformat": 4,
 "nbformat_minor": 5
}
